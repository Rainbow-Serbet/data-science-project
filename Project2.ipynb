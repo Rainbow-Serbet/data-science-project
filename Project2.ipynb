{
 "cells": [
  {
   "cell_type": "code",
   "execution_count": 1,
   "metadata": {},
   "outputs": [],
   "source": [
    "import pandas as pd\n",
    "import numpy as np\n",
    "import matplotlib as plt\n",
    "import time\n",
    "#asdsadas"
   ]
  },
  {
   "cell_type": "code",
   "execution_count": 11,
   "metadata": {},
   "outputs": [],
   "source": [
    "#기호 식품과 생필품 저장 리스트\n",
    "favor_product = [\"빵\", \"즉석식품\", \"커피\", \"스낵과자\", \"비스킷\", \"아이스크림\", \"파운데이션\", \"드레싱\",\n",
    "                 \"전복\", \"커피크림\", \"잼\", \"탄산음료\", \"클렌징크림\"]\n",
    "\n",
    "daily_product = [\"치약\", \"화장지\", \"칫솔\", \"콩\", \"샴푸\", \"냉동식품\", \"라면\", \"분유\", \"고등어\", \"햄\", \"로션\", \"면도기\", \"된장\",\n",
    "                \"참기름\", \"생수\", \"식용유\", \"케찹\", \"설탕\", \"밀가루\", \"고추장\", \"소금\", \"쌀\"]\n",
    "\n",
    "for day in range(1, 32, 1):\n",
    "    try:\n",
    "        data = pd.read_csv(f'Pr_Data/2017-01-{day:02d}.csv', sep = ',', engine = 'python', encoding = 'cp949')\n",
    "    except FileNotFoundError as e:\n",
    "        pass\n",
    "    \n",
    "    df = data.drop([\"good_id\", \"pum_id\", \"good_name\", \"discount_price\", \"benifit\"], axis=1)\n",
    "    df2 = df.dropna(axis=0)\n",
    "    \n",
    "    data_tbl = pd.DataFrame(df2, columns = ('collect_day', 'pum_name', 'sales_price'))\n",
    "    data_tbl = data_tbl.astype({'pum_name':'string'})\n",
    "    \n",
    "    fav_pro = data_tbl[data_tbl['pum_name'].str.contains('|'.join(favor_product))]\n",
    "    ess_pro = data_tbl[data_tbl['pum_name'].str.contains('|'.join(daily_product))]\n",
    "    \n",
    "    fav_pro2 = fav_pro.groupby([\"pum_name\"], as_index=False).mean()\n",
    "    ess_pro2 = ess_pro.groupby([\"pum_name\"], as_index=False).mean()\n",
    "    \n",
    "    fav_pro3 = fav_pro2.round()\n",
    "    ess_pro3 = ess_pro2.round()\n",
    "\n",
    "    fav_pro3['collect_day'] = f\"2017-01-{day}\"\n",
    "    ess_pro3['collect_day'] = f\"2017-01-{day}\"\n",
    "    \n",
    "    fav_tbl = pd.DataFrame(fav_pro3, columns = ('collect_day', 'pum_name', 'sales_price'))\n",
    "    ess_tbl = pd.DataFrame(ess_pro3, columns = ('collect_day', 'pum_name', 'sales_price'))\n",
    "    \n",
    "    fav_tbl.to_csv('fav_tbl.csv', encoding='euc-kr', mode='a', header=True, index=False)\n",
    "    ess_tbl.to_csv('ess_tbl.csv', encoding='euc-kr', mode='a', header=True, index=False)\n",
    "    "
   ]
  },
  {
   "cell_type": "code",
   "execution_count": 6,
   "metadata": {},
   "outputs": [],
   "source": [
    "#기호 식품과 생필품 저장 리스트\n",
    "favor_product = [\"빵\", \"즉석식품\", \"커피\", \"스낵과자\", \"비스킷\", \"아이스크림\", \"파운데이션\", \"드레싱\",\n",
    "                 \"전복\", \"커피크림\", \"잼\", \"탄산음료\", \"클렌징크림\"]\n",
    "\n",
    "daily_product = [\"치약\", \"화장지\", \"칫솔\", \"콩\", \"샴푸\", \"냉동식품\", \"라면\", \"분유\", \"고등어\", \"햄\", \"로션\", \"면도기\", \"된장\",\n",
    "                \"참기름\", \"생수\", \"식용유\", \"케찹\", \"설탕\", \"밀가루\", \"고추장\", \"소금\", \"쌀\"]\n",
    "\n",
    "data = pd.read_csv('Pr_Data/2017-01-01.csv', sep = ',', engine = 'python', encoding = 'cp949')\n",
    "\n",
    "df = data.drop([\"good_id\", \"pum_id\", \"good_name\", \"discount_price\", \"benifit\"], axis=1)\n",
    "df2 = df.dropna(axis=0)\n",
    "\n",
    "data_tbl = pd.DataFrame(df2, columns = ('collect_day', 'pum_name', 'sales_price'))\n",
    "data_tbl = data_tbl.astype({'pum_name':'string'})\n",
    "    \n",
    "fav_pro = data_tbl[data_tbl['pum_name'].str.contains('|'.join(favor_product))]\n",
    "ess_pro = data_tbl[data_tbl['pum_name'].str.contains('|'.join(daily_product))]\n",
    "\n",
    "fav_pro2 = fav_pro.groupby([\"pum_name\"], as_index=False).mean()\n",
    "ess_pro2 = ess_pro.groupby([\"pum_name\"], as_index=False).mean()\n",
    "\n",
    "fav_pro3 = fav_pro2.round()\n",
    "ess_pro3 = ess_pro2.round()\n",
    "\n",
    "fav_pro3['collect_day'] = \"2017-01-01\"\n",
    "ess_pro3['collect_day'] = \"2017-01-01\"\n",
    "\n",
    "fav_tbl = pd.DataFrame(fav_pro3, columns = ('collect_day', 'pum_name', 'sales_price'))\n",
    "ess_tbl = pd.DataFrame(ess_pro3, columns = ('collect_day', 'pum_name', 'sales_price'))\n",
    "\n",
    "\n",
    "fav_tbl.to_csv('fav_tbl.csv', encoding='euc-kr', mode='a', header=False)\n",
    "ess_tbl.to_csv('ess_tbl.csv', encoding='euc-kr', mode='a', header=False)"
   ]
  }
 ],
 "metadata": {
  "kernelspec": {
   "display_name": "Python 3.9.12 ('base')",
   "language": "python",
   "name": "python3"
  },
  "language_info": {
   "codemirror_mode": {
    "name": "ipython",
    "version": 3
   },
   "file_extension": ".py",
   "mimetype": "text/x-python",
   "name": "python",
   "nbconvert_exporter": "python",
   "pygments_lexer": "ipython3",
   "version": "3.9.12"
  },
  "orig_nbformat": 4,
  "vscode": {
   "interpreter": {
    "hash": "6cc7455720652bebfd4a10eed685e54721d3b8ad110f1c429458684b8192be96"
   }
  }
 },
 "nbformat": 4,
 "nbformat_minor": 2
}
